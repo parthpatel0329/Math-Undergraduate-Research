{
 "cells": [
  {
   "cell_type": "code",
   "execution_count": null,
   "id": "f62fa064",
   "metadata": {},
   "outputs": [],
   "source": [
    "df = read.csv('out.csv')"
   ]
  },
  {
   "cell_type": "code",
   "execution_count": null,
   "id": "a5814433",
   "metadata": {},
   "outputs": [],
   "source": [
    "library(tolerance)\n",
    "library(EnvStats)"
   ]
  },
  {
   "cell_type": "code",
   "execution_count": null,
   "id": "323cdb6d",
   "metadata": {},
   "outputs": [],
   "source": [
    "# min of a = 1.077552594395034\n",
    "# max of a = 2.008257730560342\n",
    "# mean of a = 1.6342080332302253\n",
    "# median of a = 1.6492609090056416"
   ]
  },
  {
   "cell_type": "code",
   "execution_count": null,
   "id": "83e97dba",
   "metadata": {},
   "outputs": [],
   "source": [
    "#Zeta Tests\n",
    "zm.ll(df$sum,dist = \"Zeta\")\n",
    "'''\n",
    "Call:\n",
    "stats4::mle(minuslogl = ll.zeta, start = list(s = s), lower = 1 + \n",
    "    1e-14)\n",
    "\n",
    "Coefficients:\n",
    "       s \n",
    "1.489104 \n",
    "'''\n",
    "zm.ll(df$sum-1,dist = \"Zeta\")\n",
    "'''\n",
    "Call:\n",
    "stats4::mle(minuslogl = ll.zeta, start = list(s = s), lower = 1 + \n",
    "    1e-14)\n",
    "\n",
    "Coefficients:\n",
    "       s \n",
    "1.489104 \n",
    "'''\n",
    "zm.ll(df$sum-2,dist = \"Zeta\")\n",
    "'''\n",
    "Call:\n",
    "stats4::mle(minuslogl = ll.zeta, start = list(s = s), lower = 1 + \n",
    "    1e-14)\n",
    "\n",
    "Coefficients:\n",
    "       s \n",
    "1.489104 \n",
    "'''"
   ]
  },
  {
   "cell_type": "code",
   "execution_count": null,
   "id": "c8351ff5",
   "metadata": {},
   "outputs": [],
   "source": [
    "#Geometric Tests\n",
    "egeom(df$sum)\n",
    "'''\n",
    "Results of Distribution Parameter Estimation\n",
    "--------------------------------------------\n",
    "\n",
    "Assumed Distribution:            Geometric\n",
    "\n",
    "Estimated Parameter(s):          prob = 0.01504762\n",
    "\n",
    "Estimation Method:               mle/mme\n",
    "\n",
    "Data:                            df$sum\n",
    "\n",
    "Sample Size:                     1681321\n",
    "'''\n",
    "egeom(df$sum-1)\n",
    "'''\n",
    "Results of Distribution Parameter Estimation\n",
    "--------------------------------------------\n",
    "\n",
    "Assumed Distribution:            Geometric\n",
    "\n",
    "Estimated Parameter(s):          prob = 0.01527752\n",
    "\n",
    "Estimation Method:               mle/mme\n",
    "\n",
    "Data:                            df$sum - 1\n",
    "\n",
    "Sample Size:                     1681321\n",
    "'''\n",
    "egeom(df$sum-2)\n",
    "'''\n",
    "Results of Distribution Parameter Estimation\n",
    "--------------------------------------------\n",
    "\n",
    "Assumed Distribution:            Geometric\n",
    "\n",
    "Estimated Parameter(s):          prob = 0.01551454\n",
    "\n",
    "Estimation Method:               mle/mme\n",
    "\n",
    "Data:                            df$sum - 2\n",
    "\n",
    "Sample Size:                     1681321\n",
    "'''"
   ]
  }
 ],
 "metadata": {
  "kernelspec": {
   "display_name": "R",
   "language": "R",
   "name": "ir"
  },
  "language_info": {
   "codemirror_mode": "r",
   "file_extension": ".r",
   "mimetype": "text/x-r-source",
   "name": "R",
   "pygments_lexer": "r",
   "version": "4.3.1"
  }
 },
 "nbformat": 4,
 "nbformat_minor": 5
}
