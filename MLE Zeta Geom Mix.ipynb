{
 "cells": [
  {
   "cell_type": "code",
   "execution_count": 1,
   "id": "dd4acddd",
   "metadata": {},
   "outputs": [],
   "source": [
    "from scipy.stats import zipf, geom\n",
    "import pandas as pd\n",
    "import numpy as np\n",
    "import random\n",
    "import sys\n",
    "from scipy.special import zeta"
   ]
  },
  {
   "cell_type": "code",
   "execution_count": 2,
   "id": "be24fa61",
   "metadata": {},
   "outputs": [],
   "source": [
    "df = pd.read_csv('out.csv')\n",
    "lis = list(df['sum'])"
   ]
  },
  {
   "cell_type": "code",
   "execution_count": 3,
   "id": "8540e590",
   "metadata": {},
   "outputs": [],
   "source": [
    "def riemann_zeta_func_deriv(x):\n",
    "    h = 1e-5\n",
    "    return (zeta(x+h) - zeta(x-h))/(2*h)"
   ]
  },
  {
   "cell_type": "code",
   "execution_count": 4,
   "id": "145a6db4",
   "metadata": {},
   "outputs": [],
   "source": [
    "def func(k,q,a,p):\n",
    "    return q*((k**-a)/(zeta(a))) + (1-q)*(((1-p)**(k-1)) * p)"
   ]
  },
  {
   "cell_type": "code",
   "execution_count": 5,
   "id": "966f24e6",
   "metadata": {},
   "outputs": [],
   "source": [
    "def zeta_param_deriv(k,q,a,p):\n",
    "    return (1/func(k,q,a,p)) * q * (((-np.log(k) * k**(-a) * zeta(a)) - (k**(-a) * riemann_zeta_func_deriv(a))) / (zeta(a)**2))"
   ]
  },
  {
   "cell_type": "code",
   "execution_count": 6,
   "id": "cb50b137",
   "metadata": {},
   "outputs": [],
   "source": [
    "def geom_param_deriv(k,q,a,p):\n",
    "    return (1/func(k,q,a,p)) * (1-q) * ((-p*(k-1)*(1-p)**(k-2))+((1-p)**(k-1)))"
   ]
  },
  {
   "cell_type": "code",
   "execution_count": 7,
   "id": "1baa75ad",
   "metadata": {},
   "outputs": [],
   "source": [
    "def mix_param_deriv(k,q,a,p):\n",
    "    return (1/func(k,q,a,p)) * (((k**(-a))/(zeta(a)))-(((1-p)**(k-1))*p))"
   ]
  },
  {
   "cell_type": "code",
   "execution_count": 8,
   "id": "7c2b2e34",
   "metadata": {},
   "outputs": [],
   "source": [
    "def mle(runs):\n",
    "    avg_A, avg_P, avg_Q = [], [], []\n",
    "    for _ in range(runs):\n",
    "        a = random.random()+1 # random initial value between 1 and 2\n",
    "        p = random.random() # random initial value between 0 and 1\n",
    "        q = random.random() # random initial value between 0 and 1\n",
    "        ep = 0.00001\n",
    "        alpha = 0.001\n",
    "        for _ in range(100):\n",
    "            k = random.choice(lis)\n",
    "            da, dp, dq = zeta_param_deriv(k,q,a,p), geom_param_deriv(k,q,a,p), mix_param_deriv(k,q,a,p)\n",
    "            atmp, ptmp, qtmp = a, p, q\n",
    "            a = a - alpha * da\n",
    "            p = p - alpha * dp\n",
    "            q = q - alpha * dq\n",
    "            if (abs((a - atmp) / a) < ep) and (abs((p - ptmp) / p) < ep) and (abs((q - qtmp) / q) < ep):\n",
    "                break\n",
    "        if str(a) != 'nan' and str(p) != 'nan' and str(q) != 'nan':\n",
    "            avg_A.append(a)\n",
    "            avg_P.append(p)\n",
    "            avg_Q.append(q)\n",
    "    print('zeta MLE', sum(avg_A)/len(avg_A))\n",
    "    print('geom MLE', sum(avg_P)/len(avg_P))\n",
    "    print('mix MLE', sum(avg_Q)/len(avg_Q))"
   ]
  },
  {
   "cell_type": "code",
   "execution_count": 9,
   "id": "4fb8f097",
   "metadata": {},
   "outputs": [
    {
     "name": "stderr",
     "output_type": "stream",
     "text": [
      "/var/folders/2r/7vbf7sp10g52q3ngqyxjw99h0000gn/T/ipykernel_18326/2367670127.py:2: RuntimeWarning: overflow encountered in scalar power\n",
      "  return q*((k**-a)/(zeta(a))) + (1-q)*(((1-p)**(k-1)) * p)\n",
      "/var/folders/2r/7vbf7sp10g52q3ngqyxjw99h0000gn/T/ipykernel_18326/2163530036.py:2: RuntimeWarning: invalid value encountered in scalar multiply\n",
      "  return (1/func(k,q,a,p)) * (1-q) * ((-p*(k-1)*(1-p)**(k-2))+((1-p)**(k-1)))\n"
     ]
    },
    {
     "name": "stdout",
     "output_type": "stream",
     "text": [
      "zeta MLE 1.5341960734201714\n",
      "geom MLE 0.6802938406864648\n",
      "mix MLE 0.8022702457178169\n"
     ]
    }
   ],
   "source": [
    "mle(1000)"
   ]
  },
  {
   "cell_type": "code",
   "execution_count": null,
   "id": "fe8638a3",
   "metadata": {},
   "outputs": [],
   "source": []
  }
 ],
 "metadata": {
  "kernelspec": {
   "display_name": "Python 3 (ipykernel)",
   "language": "python",
   "name": "python3"
  },
  "language_info": {
   "codemirror_mode": {
    "name": "ipython",
    "version": 3
   },
   "file_extension": ".py",
   "mimetype": "text/x-python",
   "name": "python",
   "nbconvert_exporter": "python",
   "pygments_lexer": "ipython3",
   "version": "3.9.13"
  }
 },
 "nbformat": 4,
 "nbformat_minor": 5
}
