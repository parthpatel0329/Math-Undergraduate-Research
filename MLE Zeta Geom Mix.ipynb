{
 "cells": [
  {
   "cell_type": "code",
   "execution_count": 1,
   "id": "dd4acddd",
   "metadata": {},
   "outputs": [],
   "source": [
    "from scipy.stats import zipf, geom\n",
    "import pandas as pd\n",
    "import numpy as np\n",
    "import random\n",
    "import sys"
   ]
  },
  {
   "cell_type": "code",
   "execution_count": 2,
   "id": "be24fa61",
   "metadata": {},
   "outputs": [],
   "source": [
    "df = pd.read_csv('out.csv')\n",
    "lis = list(df['sum'])"
   ]
  },
  {
   "cell_type": "code",
   "execution_count": 4,
   "id": "7c2b2e34",
   "metadata": {},
   "outputs": [
    {
     "name": "stdout",
     "output_type": "stream",
     "text": [
      "zeta MLE 2.579497103724286\n",
      "geom MLE 0.048819783580921164\n",
      "mix MLE 0.10463904644497618\n"
     ]
    }
   ],
   "source": [
    "zeta_param = np.random.uniform(2,10) # random initial value between 2 and 10\n",
    "geom_param = random.random() # random initial value between 0 and 1\n",
    "mix_param = random.random() # random initial value between 0 and 1\n",
    "ep = 0.00001\n",
    "for _ in range(100):\n",
    "    y_i = (mix_param * zipf.pmf(lis, zeta_param)) / ((mix_param * zipf.pmf(lis, zeta_param)) + ((1-mix_param) * geom.pmf(lis, geom_param)) + 1e-15)\n",
    "    zp_tmp, gp_tmp, mp_tmp = zeta_param, geom_param, mix_param\n",
    "    zeta_param = ((1/np.sum(y_i)) * np.sum(np.log(lis) * y_i)) + 1 #add 1 due to zipf a>1 requirement, don't know if update is correct\n",
    "    geom_param = (np.sum(1-y_i)) / np.sum(lis*(1-y_i))\n",
    "    mix_param = (1/len(lis)) * np.sum(y_i)\n",
    "    #not converging\n",
    "    #if (abs((zeta_param - zp_tmp) / zeta_param) < ep) and (abs((geom_param - gp_tmp) / geom_param) < ep) and (abs((mix_param - mp_tmp) / mix_param) < ep):\n",
    "    #    break\n",
    "print('zeta MLE', zeta_param)\n",
    "print('geom MLE', geom_param)\n",
    "print('mix MLE', mix_param)"
   ]
  },
  {
   "cell_type": "code",
   "execution_count": null,
   "id": "62336b47",
   "metadata": {},
   "outputs": [],
   "source": []
  }
 ],
 "metadata": {
  "kernelspec": {
   "display_name": "Python 3 (ipykernel)",
   "language": "python",
   "name": "python3"
  },
  "language_info": {
   "codemirror_mode": {
    "name": "ipython",
    "version": 3
   },
   "file_extension": ".py",
   "mimetype": "text/x-python",
   "name": "python",
   "nbconvert_exporter": "python",
   "pygments_lexer": "ipython3",
   "version": "3.9.13"
  }
 },
 "nbformat": 4,
 "nbformat_minor": 5
}
