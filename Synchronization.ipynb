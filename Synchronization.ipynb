{
 "cells": [
  {
   "cell_type": "code",
   "execution_count": null,
   "id": "0f8c2e6f",
   "metadata": {},
   "outputs": [],
   "source": [
    "import time\n",
    "import numpy as np\n",
    "import numba as nb\n",
    "from matplotlib import pyplot as plt\n",
    "from matplotlib import animation\n",
    "#%matplotlib notebook"
   ]
  },
  {
   "cell_type": "code",
   "execution_count": null,
   "id": "45ebc46c",
   "metadata": {},
   "outputs": [],
   "source": [
    "def nw_initial_sample(n,line,number):\n",
    "    thesample = np.ones(n+3) * (-np.inf)\n",
    "    for i in range(1,line+2):\n",
    "        thesample[i] = number\n",
    "    return thesample\n",
    "\n",
    "def nw_normal_initial_sample(n,line,number):\n",
    "    thesample = np.ones(n+3) * (-np.inf)\n",
    "    x = 0\n",
    "    y = line\n",
    "    for i in range(1,line+2):\n",
    "        np.random.seed(i)\n",
    "        thesample[i] = number + np.random.normal(0,np.absolute(x-y) ** (1/3))\n",
    "        x += 1\n",
    "        y -= 1\n",
    "    return thesample\n",
    "\n",
    "@nb.njit(parallel=True)\n",
    "def iter_step(current_sample,current_normal,r):\n",
    "    w = np.random.exponential(1, r+3)\n",
    "    \n",
    "    tmp = current_sample[0:r+3]\n",
    "    current_sample[0:r+3] = np.maximum(np.roll(tmp, 1), tmp) + w\n",
    "    \n",
    "    tmp = current_normal[0:r+3]\n",
    "    current_normal[0:r+3] = np.maximum(np.roll(tmp, 1), tmp) + w\n",
    "    \n",
    "    return current_sample, current_normal\n",
    "\n",
    "def sample(n, initial_condition, initial_normal, line):\n",
    "    current_condition = initial_condition\n",
    "    current_normal = initial_normal\n",
    "    num = int((line+3)/2)\n",
    "    cordsSample.append(current_condition[num-100:num+100+1]-current_condition[num])\n",
    "    cordsNormal.append(current_normal[num-100:num+100+1]-current_normal[num])\n",
    "    for i in range(line+1,n+1):\n",
    "        print(i)\n",
    "        current_condition, current_normal = iter_step(current_condition,current_normal,i)\n",
    "        if i % 2 == 0:\n",
    "            num = int((i+3)/2)\n",
    "            cordsSample.append(current_condition[num-100:num+100+1]-current_condition[num])\n",
    "            cordsNormal.append(current_normal[num-100:num+100+1]-current_normal[num])\n",
    "    return 'Done'"
   ]
  },
  {
   "cell_type": "code",
   "execution_count": null,
   "id": "098f5f52",
   "metadata": {},
   "outputs": [],
   "source": [
    "cordsSample = []\n",
    "cordsNormal = []\n",
    "n = 300402\n",
    "#setting line = 6 and number = 3 means that [(0,6),(1,5),(2,4),(3,3),(4,2),(5,1),(6,0)] will all be set to 3.\n",
    "line = 200402\n",
    "number = 0\n",
    "print(sample(n,nw_initial_sample(n * 2,line,number),nw_normal_initial_sample(n * 2,line,number),line))"
   ]
  },
  {
   "cell_type": "code",
   "execution_count": null,
   "id": "1896d435",
   "metadata": {},
   "outputs": [],
   "source": [
    "plt.rc('figure', figsize=(10, 10))\n",
    "\n",
    "fig,ax=plt.subplots(1,1)\n",
    "\n",
    "def animate(i):\n",
    "    ax.cla()\n",
    "    ax.set_title('LPP')\n",
    "    ax.spines['top'].set_visible(False)\n",
    "    ax.spines['right'].set_visible(False)\n",
    "    ax.spines['bottom'].set_visible(False)\n",
    "    ax.spines['left'].set_visible(False)\n",
    "    ax.set_xticks([])\n",
    "    ax.set_yticks([])\n",
    "    ax.set_xlim([-5,205])\n",
    "    ax.set_ylim([-100,100])\n",
    "    ax.plot(cordsSample[i],color='red',label=\"h(0,x)=0\")\n",
    "    ax.plot(cordsNormal[i],color='blue',label=\"h(0,x)=indep. N(0,|x|^1/3)\")\n",
    "    ax.legend(frameon=False, fancybox=True, framealpha=0.5)"
   ]
  },
  {
   "cell_type": "code",
   "execution_count": null,
   "id": "eb379fc2",
   "metadata": {},
   "outputs": [],
   "source": [
    "writervideo = animation.FFMpegWriter(fps=24)\n",
    "anim = animation.FuncAnimation(fig, animate, np.arange(0, len(cordsSample), 1), interval=200)\n",
    "anim.save('maximum.mp4', writer=writervideo)"
   ]
  },
  {
   "cell_type": "code",
   "execution_count": null,
   "id": "63aee311",
   "metadata": {},
   "outputs": [],
   "source": []
  }
 ],
 "metadata": {
  "kernelspec": {
   "display_name": "Python 3 (ipykernel)",
   "language": "python",
   "name": "python3"
  },
  "language_info": {
   "codemirror_mode": {
    "name": "ipython",
    "version": 3
   },
   "file_extension": ".py",
   "mimetype": "text/x-python",
   "name": "python",
   "nbconvert_exporter": "python",
   "pygments_lexer": "ipython3",
   "version": "3.10.8"
  }
 },
 "nbformat": 4,
 "nbformat_minor": 5
}
